{
 "cells": [
  {
   "cell_type": "markdown",
   "id": "bb5cd8ca",
   "metadata": {},
   "source": [
    "### 1. Importing Libraries"
   ]
  },
  {
   "cell_type": "code",
   "execution_count": 4,
   "id": "74b0ba79",
   "metadata": {},
   "outputs": [],
   "source": [
    "import pandas as pd\n",
    "import numpy as np\n",
    "import os"
   ]
  },
  {
   "cell_type": "markdown",
   "id": "e53a8568",
   "metadata": {},
   "source": [
    "## Using df.concat()"
   ]
  },
  {
   "cell_type": "markdown",
   "id": "b4c23793",
   "metadata": {},
   "source": [
    "### #Creating dictionaries for January and February customer data"
   ]
  },
  {
   "cell_type": "code",
   "execution_count": 30,
   "id": "272b5489",
   "metadata": {},
   "outputs": [],
   "source": [
    "#Define your dictionary containing January Data\n",
    "data1={'customer_id': ['6732', '767', '890', '635'],\n",
    "      'month': ['Jan-20', 'Jan-20', 'Jan-20', 'Jan-20'],\n",
    "      'purchased_meats':[0, 13, 3, 4],\n",
    "      'purchased_alcohol':[1, 2, 10, 0],\n",
    "      'purchased_snacks':[10, 5, 1, 7]}"
   ]
  },
  {
   "cell_type": "code",
   "execution_count": 31,
   "id": "9e95d96a",
   "metadata": {},
   "outputs": [],
   "source": [
    "data2={'customer_id': ['6732', '767', '890', '635'],\n",
    "       'month': ['Feb-20', 'Feb-20', 'Feb-20', 'Feb-20'],\n",
    "       'purchased_meats': [0, 10, 5, 3],\n",
    "       'cpurchased_alcohol': [2, 4, 14, 0],\n",
    "       'purchased_snacks': [15, 3, 2, 6],\n",
    "      }"
   ]
  },
  {
   "cell_type": "code",
   "execution_count": 32,
   "id": "99416517",
   "metadata": {},
   "outputs": [],
   "source": [
    "## Using pandas, we will convert the first dictionary into a dataframe\n",
    "df=pd.DataFrame(data1, index=[0, 1, 2, 3])"
   ]
  },
  {
   "cell_type": "code",
   "execution_count": 33,
   "id": "5a53ffb4",
   "metadata": {},
   "outputs": [],
   "source": [
    "## Using pandas, we will convert the second dictionary into a dataframe\n",
    "df1=pd.DataFrame(data2, index=[0, 1, 2, 3])"
   ]
  },
  {
   "cell_type": "code",
   "execution_count": 34,
   "id": "14cbfb28",
   "metadata": {},
   "outputs": [
    {
     "data": {
      "text/html": [
       "<div>\n",
       "<style scoped>\n",
       "    .dataframe tbody tr th:only-of-type {\n",
       "        vertical-align: middle;\n",
       "    }\n",
       "\n",
       "    .dataframe tbody tr th {\n",
       "        vertical-align: top;\n",
       "    }\n",
       "\n",
       "    .dataframe thead th {\n",
       "        text-align: right;\n",
       "    }\n",
       "</style>\n",
       "<table border=\"1\" class=\"dataframe\">\n",
       "  <thead>\n",
       "    <tr style=\"text-align: right;\">\n",
       "      <th></th>\n",
       "      <th>customer_id</th>\n",
       "      <th>month</th>\n",
       "      <th>purchased_meats</th>\n",
       "      <th>purchased_alcohol</th>\n",
       "      <th>purchased_snacks</th>\n",
       "    </tr>\n",
       "  </thead>\n",
       "  <tbody>\n",
       "    <tr>\n",
       "      <th>0</th>\n",
       "      <td>6732</td>\n",
       "      <td>Jan-20</td>\n",
       "      <td>0</td>\n",
       "      <td>1</td>\n",
       "      <td>10</td>\n",
       "    </tr>\n",
       "    <tr>\n",
       "      <th>1</th>\n",
       "      <td>767</td>\n",
       "      <td>Jan-20</td>\n",
       "      <td>13</td>\n",
       "      <td>2</td>\n",
       "      <td>5</td>\n",
       "    </tr>\n",
       "    <tr>\n",
       "      <th>2</th>\n",
       "      <td>890</td>\n",
       "      <td>Jan-20</td>\n",
       "      <td>3</td>\n",
       "      <td>10</td>\n",
       "      <td>1</td>\n",
       "    </tr>\n",
       "    <tr>\n",
       "      <th>3</th>\n",
       "      <td>635</td>\n",
       "      <td>Jan-20</td>\n",
       "      <td>4</td>\n",
       "      <td>0</td>\n",
       "      <td>7</td>\n",
       "    </tr>\n",
       "  </tbody>\n",
       "</table>\n",
       "</div>"
      ],
      "text/plain": [
       "  customer_id   month  purchased_meats  purchased_alcohol  purchased_snacks\n",
       "0        6732  Jan-20                0                  1                10\n",
       "1         767  Jan-20               13                  2                 5\n",
       "2         890  Jan-20                3                 10                 1\n",
       "3         635  Jan-20                4                  0                 7"
      ]
     },
     "execution_count": 34,
     "metadata": {},
     "output_type": "execute_result"
    }
   ],
   "source": [
    "#Testinf df\n",
    "df"
   ]
  },
  {
   "cell_type": "code",
   "execution_count": 35,
   "id": "210ccca7",
   "metadata": {},
   "outputs": [
    {
     "data": {
      "text/html": [
       "<div>\n",
       "<style scoped>\n",
       "    .dataframe tbody tr th:only-of-type {\n",
       "        vertical-align: middle;\n",
       "    }\n",
       "\n",
       "    .dataframe tbody tr th {\n",
       "        vertical-align: top;\n",
       "    }\n",
       "\n",
       "    .dataframe thead th {\n",
       "        text-align: right;\n",
       "    }\n",
       "</style>\n",
       "<table border=\"1\" class=\"dataframe\">\n",
       "  <thead>\n",
       "    <tr style=\"text-align: right;\">\n",
       "      <th></th>\n",
       "      <th>customer_id</th>\n",
       "      <th>month</th>\n",
       "      <th>purchased_meats</th>\n",
       "      <th>cpurchased_alcohol</th>\n",
       "      <th>purchased_snacks</th>\n",
       "    </tr>\n",
       "  </thead>\n",
       "  <tbody>\n",
       "    <tr>\n",
       "      <th>0</th>\n",
       "      <td>6732</td>\n",
       "      <td>Feb-20</td>\n",
       "      <td>0</td>\n",
       "      <td>2</td>\n",
       "      <td>15</td>\n",
       "    </tr>\n",
       "    <tr>\n",
       "      <th>1</th>\n",
       "      <td>767</td>\n",
       "      <td>Feb-20</td>\n",
       "      <td>10</td>\n",
       "      <td>4</td>\n",
       "      <td>3</td>\n",
       "    </tr>\n",
       "    <tr>\n",
       "      <th>2</th>\n",
       "      <td>890</td>\n",
       "      <td>Feb-20</td>\n",
       "      <td>5</td>\n",
       "      <td>14</td>\n",
       "      <td>2</td>\n",
       "    </tr>\n",
       "    <tr>\n",
       "      <th>3</th>\n",
       "      <td>635</td>\n",
       "      <td>Feb-20</td>\n",
       "      <td>3</td>\n",
       "      <td>0</td>\n",
       "      <td>6</td>\n",
       "    </tr>\n",
       "  </tbody>\n",
       "</table>\n",
       "</div>"
      ],
      "text/plain": [
       "  customer_id   month  purchased_meats  cpurchased_alcohol  purchased_snacks\n",
       "0        6732  Feb-20                0                   2                15\n",
       "1         767  Feb-20               10                   4                 3\n",
       "2         890  Feb-20                5                  14                 2\n",
       "3         635  Feb-20                3                   0                 6"
      ]
     },
     "execution_count": 35,
     "metadata": {},
     "output_type": "execute_result"
    }
   ],
   "source": [
    "df1"
   ]
  },
  {
   "cell_type": "code",
   "execution_count": 36,
   "id": "261265fd",
   "metadata": {},
   "outputs": [],
   "source": [
    "## Creating a list containg dataframes which will be concatenated\n",
    "frames=[df, df1]"
   ]
  },
  {
   "cell_type": "code",
   "execution_count": 37,
   "id": "bf442eef",
   "metadata": {},
   "outputs": [],
   "source": [
    "## Concatenating both dataframes using pd.concat func (list has to be used, which is why we created 'frames' list)\n",
    "df_concat=pd.concat(frames)"
   ]
  },
  {
   "cell_type": "code",
   "execution_count": 38,
   "id": "63175bc6",
   "metadata": {},
   "outputs": [
    {
     "data": {
      "text/html": [
       "<div>\n",
       "<style scoped>\n",
       "    .dataframe tbody tr th:only-of-type {\n",
       "        vertical-align: middle;\n",
       "    }\n",
       "\n",
       "    .dataframe tbody tr th {\n",
       "        vertical-align: top;\n",
       "    }\n",
       "\n",
       "    .dataframe thead th {\n",
       "        text-align: right;\n",
       "    }\n",
       "</style>\n",
       "<table border=\"1\" class=\"dataframe\">\n",
       "  <thead>\n",
       "    <tr style=\"text-align: right;\">\n",
       "      <th></th>\n",
       "      <th>customer_id</th>\n",
       "      <th>month</th>\n",
       "      <th>purchased_meats</th>\n",
       "      <th>purchased_alcohol</th>\n",
       "      <th>purchased_snacks</th>\n",
       "      <th>cpurchased_alcohol</th>\n",
       "    </tr>\n",
       "  </thead>\n",
       "  <tbody>\n",
       "    <tr>\n",
       "      <th>0</th>\n",
       "      <td>6732</td>\n",
       "      <td>Jan-20</td>\n",
       "      <td>0</td>\n",
       "      <td>1.0</td>\n",
       "      <td>10</td>\n",
       "      <td>NaN</td>\n",
       "    </tr>\n",
       "    <tr>\n",
       "      <th>1</th>\n",
       "      <td>767</td>\n",
       "      <td>Jan-20</td>\n",
       "      <td>13</td>\n",
       "      <td>2.0</td>\n",
       "      <td>5</td>\n",
       "      <td>NaN</td>\n",
       "    </tr>\n",
       "    <tr>\n",
       "      <th>2</th>\n",
       "      <td>890</td>\n",
       "      <td>Jan-20</td>\n",
       "      <td>3</td>\n",
       "      <td>10.0</td>\n",
       "      <td>1</td>\n",
       "      <td>NaN</td>\n",
       "    </tr>\n",
       "    <tr>\n",
       "      <th>3</th>\n",
       "      <td>635</td>\n",
       "      <td>Jan-20</td>\n",
       "      <td>4</td>\n",
       "      <td>0.0</td>\n",
       "      <td>7</td>\n",
       "      <td>NaN</td>\n",
       "    </tr>\n",
       "    <tr>\n",
       "      <th>0</th>\n",
       "      <td>6732</td>\n",
       "      <td>Feb-20</td>\n",
       "      <td>0</td>\n",
       "      <td>NaN</td>\n",
       "      <td>15</td>\n",
       "      <td>2.0</td>\n",
       "    </tr>\n",
       "    <tr>\n",
       "      <th>1</th>\n",
       "      <td>767</td>\n",
       "      <td>Feb-20</td>\n",
       "      <td>10</td>\n",
       "      <td>NaN</td>\n",
       "      <td>3</td>\n",
       "      <td>4.0</td>\n",
       "    </tr>\n",
       "    <tr>\n",
       "      <th>2</th>\n",
       "      <td>890</td>\n",
       "      <td>Feb-20</td>\n",
       "      <td>5</td>\n",
       "      <td>NaN</td>\n",
       "      <td>2</td>\n",
       "      <td>14.0</td>\n",
       "    </tr>\n",
       "    <tr>\n",
       "      <th>3</th>\n",
       "      <td>635</td>\n",
       "      <td>Feb-20</td>\n",
       "      <td>3</td>\n",
       "      <td>NaN</td>\n",
       "      <td>6</td>\n",
       "      <td>0.0</td>\n",
       "    </tr>\n",
       "  </tbody>\n",
       "</table>\n",
       "</div>"
      ],
      "text/plain": [
       "  customer_id   month  purchased_meats  purchased_alcohol  purchased_snacks  \\\n",
       "0        6732  Jan-20                0                1.0                10   \n",
       "1         767  Jan-20               13                2.0                 5   \n",
       "2         890  Jan-20                3               10.0                 1   \n",
       "3         635  Jan-20                4                0.0                 7   \n",
       "0        6732  Feb-20                0                NaN                15   \n",
       "1         767  Feb-20               10                NaN                 3   \n",
       "2         890  Feb-20                5                NaN                 2   \n",
       "3         635  Feb-20                3                NaN                 6   \n",
       "\n",
       "   cpurchased_alcohol  \n",
       "0                 NaN  \n",
       "1                 NaN  \n",
       "2                 NaN  \n",
       "3                 NaN  \n",
       "0                 2.0  \n",
       "1                 4.0  \n",
       "2                14.0  \n",
       "3                 0.0  "
      ]
     },
     "execution_count": 38,
     "metadata": {},
     "output_type": "execute_result"
    }
   ],
   "source": [
    "df_concat"
   ]
  },
  {
   "cell_type": "markdown",
   "id": "05c0eeda",
   "metadata": {},
   "source": [
    "## Using df.merge()"
   ]
  },
  {
   "cell_type": "code",
   "execution_count": 39,
   "id": "6d5020f8",
   "metadata": {},
   "outputs": [],
   "source": [
    "#Before we utilize the df.merge() func, we need to create a third dictionary with slight different format\n",
    "data3={'customer_id': ['6732', '767', '890', '635'],\n",
    "      'month': ['Jan-20', 'Jan-20', 'Jan-20', 'Jan-20'],\n",
    "      'days_purchased_on': [0, 10, 4, 1]}"
   ]
  },
  {
   "cell_type": "code",
   "execution_count": 41,
   "id": "b7b13256",
   "metadata": {},
   "outputs": [],
   "source": [
    "#Now, we turn the third dictionary into a third dataframe using pd.DataFrame() function\n",
    "df2=pd.DataFrame(data3, index=[0, 1, 2, 3])"
   ]
  },
  {
   "cell_type": "code",
   "execution_count": 46,
   "id": "192bfa55",
   "metadata": {},
   "outputs": [],
   "source": [
    "#Merging the different size dataframes using df.merge() and 'customer_id' and 'month' as connecting keys\n",
    "df_merged=df.merge(df2, on=['customer_id', 'month'])"
   ]
  },
  {
   "cell_type": "code",
   "execution_count": 47,
   "id": "d00d622f",
   "metadata": {},
   "outputs": [
    {
     "data": {
      "text/html": [
       "<div>\n",
       "<style scoped>\n",
       "    .dataframe tbody tr th:only-of-type {\n",
       "        vertical-align: middle;\n",
       "    }\n",
       "\n",
       "    .dataframe tbody tr th {\n",
       "        vertical-align: top;\n",
       "    }\n",
       "\n",
       "    .dataframe thead th {\n",
       "        text-align: right;\n",
       "    }\n",
       "</style>\n",
       "<table border=\"1\" class=\"dataframe\">\n",
       "  <thead>\n",
       "    <tr style=\"text-align: right;\">\n",
       "      <th></th>\n",
       "      <th>customer_id</th>\n",
       "      <th>month</th>\n",
       "      <th>purchased_meats</th>\n",
       "      <th>purchased_alcohol</th>\n",
       "      <th>purchased_snacks</th>\n",
       "      <th>days_purchased_on</th>\n",
       "    </tr>\n",
       "  </thead>\n",
       "  <tbody>\n",
       "    <tr>\n",
       "      <th>0</th>\n",
       "      <td>6732</td>\n",
       "      <td>Jan-20</td>\n",
       "      <td>0</td>\n",
       "      <td>1</td>\n",
       "      <td>10</td>\n",
       "      <td>0</td>\n",
       "    </tr>\n",
       "    <tr>\n",
       "      <th>1</th>\n",
       "      <td>767</td>\n",
       "      <td>Jan-20</td>\n",
       "      <td>13</td>\n",
       "      <td>2</td>\n",
       "      <td>5</td>\n",
       "      <td>10</td>\n",
       "    </tr>\n",
       "    <tr>\n",
       "      <th>2</th>\n",
       "      <td>890</td>\n",
       "      <td>Jan-20</td>\n",
       "      <td>3</td>\n",
       "      <td>10</td>\n",
       "      <td>1</td>\n",
       "      <td>4</td>\n",
       "    </tr>\n",
       "    <tr>\n",
       "      <th>3</th>\n",
       "      <td>635</td>\n",
       "      <td>Jan-20</td>\n",
       "      <td>4</td>\n",
       "      <td>0</td>\n",
       "      <td>7</td>\n",
       "      <td>1</td>\n",
       "    </tr>\n",
       "  </tbody>\n",
       "</table>\n",
       "</div>"
      ],
      "text/plain": [
       "  customer_id   month  purchased_meats  purchased_alcohol  purchased_snacks  \\\n",
       "0        6732  Jan-20                0                  1                10   \n",
       "1         767  Jan-20               13                  2                 5   \n",
       "2         890  Jan-20                3                 10                 1   \n",
       "3         635  Jan-20                4                  0                 7   \n",
       "\n",
       "   days_purchased_on  \n",
       "0                  0  \n",
       "1                 10  \n",
       "2                  4  \n",
       "3                  1  "
      ]
     },
     "execution_count": 47,
     "metadata": {},
     "output_type": "execute_result"
    }
   ],
   "source": [
    "df_merged"
   ]
  },
  {
   "cell_type": "code",
   "execution_count": 48,
   "id": "47d7472e",
   "metadata": {},
   "outputs": [],
   "source": [
    "#Using indicator=True, we now will check if there is a partial or full match between both dataframes \n",
    "#that were merged\n",
    "\n",
    "df_merged = df.merge(df2, on = ['customer_id', 'month'], indicator = True)"
   ]
  },
  {
   "cell_type": "code",
   "execution_count": 49,
   "id": "ff59b25f",
   "metadata": {},
   "outputs": [
    {
     "data": {
      "text/html": [
       "<div>\n",
       "<style scoped>\n",
       "    .dataframe tbody tr th:only-of-type {\n",
       "        vertical-align: middle;\n",
       "    }\n",
       "\n",
       "    .dataframe tbody tr th {\n",
       "        vertical-align: top;\n",
       "    }\n",
       "\n",
       "    .dataframe thead th {\n",
       "        text-align: right;\n",
       "    }\n",
       "</style>\n",
       "<table border=\"1\" class=\"dataframe\">\n",
       "  <thead>\n",
       "    <tr style=\"text-align: right;\">\n",
       "      <th></th>\n",
       "      <th>customer_id</th>\n",
       "      <th>month</th>\n",
       "      <th>purchased_meats</th>\n",
       "      <th>purchased_alcohol</th>\n",
       "      <th>purchased_snacks</th>\n",
       "      <th>days_purchased_on</th>\n",
       "      <th>_merge</th>\n",
       "    </tr>\n",
       "  </thead>\n",
       "  <tbody>\n",
       "    <tr>\n",
       "      <th>0</th>\n",
       "      <td>6732</td>\n",
       "      <td>Jan-20</td>\n",
       "      <td>0</td>\n",
       "      <td>1</td>\n",
       "      <td>10</td>\n",
       "      <td>0</td>\n",
       "      <td>both</td>\n",
       "    </tr>\n",
       "    <tr>\n",
       "      <th>1</th>\n",
       "      <td>767</td>\n",
       "      <td>Jan-20</td>\n",
       "      <td>13</td>\n",
       "      <td>2</td>\n",
       "      <td>5</td>\n",
       "      <td>10</td>\n",
       "      <td>both</td>\n",
       "    </tr>\n",
       "    <tr>\n",
       "      <th>2</th>\n",
       "      <td>890</td>\n",
       "      <td>Jan-20</td>\n",
       "      <td>3</td>\n",
       "      <td>10</td>\n",
       "      <td>1</td>\n",
       "      <td>4</td>\n",
       "      <td>both</td>\n",
       "    </tr>\n",
       "    <tr>\n",
       "      <th>3</th>\n",
       "      <td>635</td>\n",
       "      <td>Jan-20</td>\n",
       "      <td>4</td>\n",
       "      <td>0</td>\n",
       "      <td>7</td>\n",
       "      <td>1</td>\n",
       "      <td>both</td>\n",
       "    </tr>\n",
       "  </tbody>\n",
       "</table>\n",
       "</div>"
      ],
      "text/plain": [
       "  customer_id   month  purchased_meats  purchased_alcohol  purchased_snacks  \\\n",
       "0        6732  Jan-20                0                  1                10   \n",
       "1         767  Jan-20               13                  2                 5   \n",
       "2         890  Jan-20                3                 10                 1   \n",
       "3         635  Jan-20                4                  0                 7   \n",
       "\n",
       "   days_purchased_on _merge  \n",
       "0                  0   both  \n",
       "1                 10   both  \n",
       "2                  4   both  \n",
       "3                  1   both  "
      ]
     },
     "execution_count": 49,
     "metadata": {},
     "output_type": "execute_result"
    }
   ],
   "source": [
    "#Here, we are calling the dataframe we just created to check match status\n",
    "df_merged"
   ]
  },
  {
   "cell_type": "code",
   "execution_count": 50,
   "id": "2ca99327",
   "metadata": {},
   "outputs": [],
   "source": [
    "#both means there is a full match\n",
    "#left_only means the key only exists in left dataframe\n",
    "#right_only means the key only exists in right dataframe"
   ]
  },
  {
   "cell_type": "code",
   "execution_count": null,
   "id": "20f738c0",
   "metadata": {},
   "outputs": [],
   "source": []
  }
 ],
 "metadata": {
  "kernelspec": {
   "display_name": "Python 3 (ipykernel)",
   "language": "python",
   "name": "python3"
  },
  "language_info": {
   "codemirror_mode": {
    "name": "ipython",
    "version": 3
   },
   "file_extension": ".py",
   "mimetype": "text/x-python",
   "name": "python",
   "nbconvert_exporter": "python",
   "pygments_lexer": "ipython3",
   "version": "3.11.5"
  }
 },
 "nbformat": 4,
 "nbformat_minor": 5
}
