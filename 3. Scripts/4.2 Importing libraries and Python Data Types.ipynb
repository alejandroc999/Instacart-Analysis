{
 "cells": [
  {
   "cell_type": "markdown",
   "id": "3b514589",
   "metadata": {},
   "source": [
    "#1. Importing Libraries"
   ]
  },
  {
   "cell_type": "code",
   "execution_count": 1,
   "id": "b3320221",
   "metadata": {},
   "outputs": [],
   "source": [
    "#Import libraries\n",
    "import pandas as pd\n",
    "import numpy as np\n",
    "import os"
   ]
  },
  {
   "cell_type": "markdown",
   "id": "5f081afc",
   "metadata": {},
   "source": [
    "#2. Code sequence initiation"
   ]
  },
  {
   "cell_type": "code",
   "execution_count": 8,
   "id": "474ac5bb",
   "metadata": {},
   "outputs": [
    {
     "name": "stdout",
     "output_type": "stream",
     "text": [
      "100\n"
     ]
    }
   ],
   "source": [
    "print(77+23)"
   ]
  },
  {
   "cell_type": "code",
   "execution_count": 10,
   "id": "dbccb886",
   "metadata": {},
   "outputs": [],
   "source": [
    "x, y = 20, 5"
   ]
  },
  {
   "cell_type": "code",
   "execution_count": 11,
   "id": "e6387f03",
   "metadata": {},
   "outputs": [
    {
     "data": {
      "text/plain": [
       "100"
      ]
     },
     "execution_count": 11,
     "metadata": {},
     "output_type": "execute_result"
    }
   ],
   "source": [
    "x*y"
   ]
  },
  {
   "cell_type": "code",
   "execution_count": 12,
   "id": "6ffec040",
   "metadata": {},
   "outputs": [
    {
     "data": {
      "text/plain": [
       "100"
      ]
     },
     "execution_count": 12,
     "metadata": {},
     "output_type": "execute_result"
    }
   ],
   "source": [
    "x*6 - y*4"
   ]
  },
  {
   "cell_type": "code",
   "execution_count": 13,
   "id": "07be9a05",
   "metadata": {},
   "outputs": [],
   "source": [
    "a, b = 75.25, 11.5"
   ]
  },
  {
   "cell_type": "code",
   "execution_count": 15,
   "id": "1efc2b29",
   "metadata": {},
   "outputs": [
    {
     "data": {
      "text/plain": [
       "6.54"
      ]
     },
     "execution_count": 15,
     "metadata": {},
     "output_type": "execute_result"
    }
   ],
   "source": [
    "round(a/b, 2)"
   ]
  },
  {
   "cell_type": "code",
   "execution_count": 17,
   "id": "73e0dffe",
   "metadata": {},
   "outputs": [],
   "source": [
    "word1='My name is Alejandro'"
   ]
  },
  {
   "cell_type": "code",
   "execution_count": 22,
   "id": "8d6372fe",
   "metadata": {},
   "outputs": [],
   "source": [
    "word2=' and I am learning about Python and Jupyter syntax.'"
   ]
  },
  {
   "cell_type": "code",
   "execution_count": 23,
   "id": "869aa534",
   "metadata": {},
   "outputs": [
    {
     "name": "stdout",
     "output_type": "stream",
     "text": [
      "My name is Alejandro and I am learning about Python and Jupyter syntax.\n"
     ]
    }
   ],
   "source": [
    "print(word1+word2)"
   ]
  },
  {
   "cell_type": "code",
   "execution_count": 25,
   "id": "36424534",
   "metadata": {},
   "outputs": [],
   "source": [
    "word3='Python'"
   ]
  },
  {
   "cell_type": "code",
   "execution_count": 27,
   "id": "b2401845",
   "metadata": {},
   "outputs": [
    {
     "data": {
      "text/plain": [
       "'PythonPythonPythonPythonPythonPythonPythonPythonPythonPythonPythonPythonPythonPythonPythonPythonPythonPythonPythonPythonPythonPythonPythonPythonPythonPythonPythonPythonPythonPythonPythonPythonPythonPythonPythonPythonPythonPythonPythonPythonPythonPythonPythonPythonPythonPythonPythonPythonPythonPythonPythonPythonPythonPythonPythonPythonPythonPythonPythonPythonPythonPythonPythonPythonPythonPythonPythonPythonPythonPythonPythonPythonPythonPythonPythonPythonPythonPythonPythonPythonPythonPythonPythonPythonPythonPythonPythonPythonPythonPythonPythonPythonPythonPythonPythonPythonPythonPythonPythonPython'"
      ]
     },
     "execution_count": 27,
     "metadata": {},
     "output_type": "execute_result"
    }
   ],
   "source": [
    "word3*100"
   ]
  },
  {
   "cell_type": "code",
   "execution_count": null,
   "id": "975426eb",
   "metadata": {},
   "outputs": [],
   "source": []
  }
 ],
 "metadata": {
  "kernelspec": {
   "display_name": "Python 3 (ipykernel)",
   "language": "python",
   "name": "python3"
  },
  "language_info": {
   "codemirror_mode": {
    "name": "ipython",
    "version": 3
   },
   "file_extension": ".py",
   "mimetype": "text/x-python",
   "name": "python",
   "nbconvert_exporter": "python",
   "pygments_lexer": "ipython3",
   "version": "3.11.5"
  }
 },
 "nbformat": 4,
 "nbformat_minor": 5
}
